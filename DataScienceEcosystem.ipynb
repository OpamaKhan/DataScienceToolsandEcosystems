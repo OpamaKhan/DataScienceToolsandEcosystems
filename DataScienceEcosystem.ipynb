{
 "cells": [
  {
   "cell_type": "markdown",
   "id": "d15db8e8-5028-4da0-8963-1ab3d9f9fb4d",
   "metadata": {},
   "source": [
    "# Data Science Tools and Ecosystem"
   ]
  },
  {
   "cell_type": "markdown",
   "id": "6c930b36-a54b-428f-9666-6a9361f4a475",
   "metadata": {},
   "source": [
    "In this notebook, Data Science Tools and Ecosystem are summarised"
   ]
  },
  {
   "cell_type": "markdown",
   "id": "d5090057-bf5a-489b-af6a-80555b727381",
   "metadata": {},
   "source": [
    "**Objectives**\n",
    "- list popular languages for Data Science\n",
    "- list popular open source data science tools\n",
    "- learn about markdown cells\n",
    "- learn about code cells\n",
    "- learn how to complete simple arithmetic functions"
   ]
  },
  {
   "cell_type": "markdown",
   "id": "4e6e4840-2c14-44a6-b4be-d557307e50e3",
   "metadata": {
    "tags": []
   },
   "source": [
    "Some of the popular languages that Data Scientists use are: \n",
    "1. python\n",
    "1. R\n",
    "1. SQL\n",
    "1. Java\n",
    "1. Julia\n",
    "1. MATLAB\n",
    "1. Javascript\n",
    "1. C++\n",
    "1. NumPy\n",
    "1. Pandas\n"
   ]
  },
  {
   "cell_type": "markdown",
   "id": "cade1374-550a-4a5c-a32b-fdf317bedf4c",
   "metadata": {},
   "source": [
    "|Data Science Tools|\n",
    "---------\n",
    "|Jupyter Notebook|\n",
    "|R Studio|\n",
    "|MatLab|"
   ]
  },
  {
   "cell_type": "markdown",
   "id": "8d0b82e5-4423-47dc-b61d-e2fab0a17e63",
   "metadata": {},
   "source": [
    "### Below are a few examples of evaluating arithmetic expressions in Python"
   ]
  },
  {
   "cell_type": "code",
   "execution_count": 1,
   "id": "dd135e15-6de9-4c6e-8446-25718135958f",
   "metadata": {
    "tags": []
   },
   "outputs": [
    {
     "data": {
      "text/plain": [
       "17"
      ]
     },
     "execution_count": 1,
     "metadata": {},
     "output_type": "execute_result"
    }
   ],
   "source": [
    "'This is a simple arithmetic expression to multiply then add integers'\n",
    "(3*4)+5"
   ]
  },
  {
   "cell_type": "code",
   "execution_count": 2,
   "id": "b052f56c-8b07-46d1-966f-a16fc9733858",
   "metadata": {
    "tags": []
   },
   "outputs": [
    {
     "data": {
      "text/plain": [
       "3.3333333333333335"
      ]
     },
     "execution_count": 2,
     "metadata": {},
     "output_type": "execute_result"
    }
   ],
   "source": [
    "'This will convert 200 minutes to hours by dividing by 60'\n",
    "(200/60)"
   ]
  },
  {
   "cell_type": "markdown",
   "id": "cf2cc44e-5405-4289-bc6d-a81d5de6aed1",
   "metadata": {},
   "source": [
    "## Author\n",
    "Opama Khan"
   ]
  },
  {
   "cell_type": "code",
   "execution_count": null,
   "id": "28ecbf11-e3f8-4e3f-9342-7db4d7e152ed",
   "metadata": {},
   "outputs": [],
   "source": []
  }
 ],
 "metadata": {
  "kernelspec": {
   "display_name": "Python",
   "language": "python",
   "name": "conda-env-python-py"
  },
  "language_info": {
   "codemirror_mode": {
    "name": "ipython",
    "version": 3
   },
   "file_extension": ".py",
   "mimetype": "text/x-python",
   "name": "python",
   "nbconvert_exporter": "python",
   "pygments_lexer": "ipython3",
   "version": "3.7.12"
  }
 },
 "nbformat": 4,
 "nbformat_minor": 5
}
